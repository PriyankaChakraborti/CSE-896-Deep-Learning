{
 "cells": [
  {
   "cell_type": "markdown",
   "metadata": {},
   "source": [
    "# Hackathon 6\n",
    "\n",
    "Topics:\n",
    "- Techniques for dimension expansion\n",
    "    - Transpose convolutions\n",
    "    - Sub-pixel convolutions\n",
    "    - ProgressiveGAN upscaling\n",
    "- Autoencoding\n",
    "    - Sparse autoencoders\n",
    "    - De-noising autoencoders\n",
    "\n",
    "This is all setup in a IPython notebook so you can run any code you want to experiment with. Feel free to edit any cell, or add some to run your own code."
   ]
  },
  {
   "cell_type": "code",
   "execution_count": 1,
   "metadata": {
    "collapsed": true
   },
   "outputs": [],
   "source": [
    "# We'll start with our library imports...\n",
    "from __future__ import print_function\n",
    "\n",
    "import os  # to work with file paths\n",
    "\n",
    "import tensorflow as tf         # to specify and run computation graphs\n",
    "import numpy as np              # for numerical operations taking place outside of the TF graph\n",
    "import matplotlib.pyplot as plt # to draw plots\n",
    "\n",
    "mnist_dir = '/work/cse496dl/shared/hackathon/03/mnist/'\n",
    "cifar_dir = '/work/cse496dl/shared/hackathon/05/'"
   ]
  },
  {
   "cell_type": "code",
   "execution_count": 2,
   "metadata": {
    "collapsed": true
   },
   "outputs": [],
   "source": [
    "# extract our dataset, MNIST\n",
    "train_data = np.load(mnist_dir + 'mnist_train_images.npy')\n",
    "train_data = np.reshape(train_data, [-1, 28, 28, 1])\n",
    "test_data = np.load(mnist_dir + 'mnist_test_images.npy')\n",
    "test_data = np.reshape(test_data, [-1, 28, 28, 1])"
   ]
  },
  {
   "cell_type": "markdown",
   "metadata": {},
   "source": [
    "### Techniques for dimension expansion\n",
    "\n",
    "Generally we compress high dimensional representations into lower dimensional ones. Now, we're going to study ways of going from lower dimensional to higher. For this, we're going to define a function `upscale_block` in three different ways.\n",
    "\n",
    "#### Transpose convolutions\n",
    "\n",
    "Although we can reverse linear transformations very easily, images are less straightforward to upscale. Aside from naive, classical techniques for upscaling, we can learn to increase the size of images with transpose convolutions. They are sometimes called \"deconvolutions\" because they're the inverse operation of the convolution, but it is actually the transpose (gradient) of conv2d rather than an actual deconvolution. Transpose convolutions are implemented by [tf.layers.conv2d_transpose](https://www.tensorflow.org/api_docs/python/tf/layers/conv2d_transpose)."
   ]
  },
  {
   "cell_type": "code",
   "execution_count": 3,
   "metadata": {},
   "outputs": [
    {
     "name": "stderr",
     "output_type": "stream",
     "text": [
      "WARNING: Logging before flag parsing goes to stderr.\n",
      "W1012 12:20:11.221431 47958307618944 deprecation.py:323] From <ipython-input-3-7625a3dc34ca>:6: conv2d_transpose (from tensorflow.python.layers.convolutional) is deprecated and will be removed in a future version.\n",
      "Instructions for updating:\n",
      "Use `tf.keras.layers.Conv2DTranspose` instead.\n",
      "W1012 12:20:11.240186 47958307618944 deprecation.py:506] From /util/opt/anaconda/deployed-conda-envs/packages/tensorflow/envs/tensorflow-1.14.0-py36/lib/python3.6/site-packages/tensorflow/python/ops/init_ops.py:1251: calling VarianceScaling.__init__ (from tensorflow.python.ops.init_ops) with dtype is deprecated and will be removed in a future version.\n",
      "Instructions for updating:\n",
      "Call initializer instance with the dtype argument instead of passing it to the constructor\n"
     ]
    },
    {
     "name": "stdout",
     "output_type": "stream",
     "text": [
      "Tensor(\"conv2d_transpose/Relu:0\", shape=(?, 64, 64, 3), dtype=float32)\n",
      "Parameters: 84\n"
     ]
    }
   ],
   "source": [
    "# Upscales by take summary of image, and try to reconstruct what data was previously there\n",
    "def upscale_block(x, scale=2):\n",
    "    \"\"\" conv2d_transpose \"\"\"\n",
    "    # We scale up dimensions by 2, so 4x4 goes to 8x8\n",
    "    # the 3,3 specifies the number of channels (not just rgb), filter size\n",
    "    return tf.layers.conv2d_transpose(x, 3, 3, strides=(scale, scale), padding='same', activation=tf.nn.relu)\n",
    "\n",
    "# Define graph\n",
    "tf.reset_default_graph()\n",
    "x = tf.placeholder(tf.float32, shape=[None, 32, 32, 3])\n",
    "# Run upscale block on input x\n",
    "up_x = upscale_block(x)\n",
    "print(up_x)\n",
    "\n",
    "# This counts the number of trainable parameters\n",
    "num_params = np.sum([np.prod(v.get_shape().as_list()) for v in tf.trainable_variables()])\n",
    "print('Parameters: ' + str(num_params))"
   ]
  },
  {
   "cell_type": "markdown",
   "metadata": {},
   "source": [
    "#### Sub-pixel convolutions\n",
    "\n",
    "Another approach is called the sub-pixel convolution, which does a convolution with many channels, and then re-orders the data into the height and width dimensions from the channels dimension:\n",
    "\n",
    "<img src=\"https://ai2-s2-public.s3.amazonaws.com/figures/2017-08-08/03a5b2aac53443e6078f0f63b35d4f95d6d54c5d/2-Figure1-1.png\">\n",
    "\n",
    "(Image sourced from [Real-Time Single Image and Video Super-Resolution Using an Efficient Sub-Pixel Convolutional Neural Network](https://arxiv.org/abs/1609.05158))"
   ]
  },
  {
   "cell_type": "code",
   "execution_count": 4,
   "metadata": {},
   "outputs": [
    {
     "name": "stderr",
     "output_type": "stream",
     "text": [
      "W1012 12:20:13.022919 47958307618944 deprecation.py:323] From <ipython-input-4-07e0397d2f78>:20: conv2d (from tensorflow.python.layers.convolutional) is deprecated and will be removed in a future version.\n",
      "Instructions for updating:\n",
      "Use `tf.keras.layers.Conv2D` instead.\n"
     ]
    },
    {
     "name": "stdout",
     "output_type": "stream",
     "text": [
      "Tensor(\"DepthToSpace:0\", shape=(?, 64, 64, 3), dtype=float32)\n",
      "Parameters: 336\n"
     ]
    }
   ],
   "source": [
    "# This does regular convolution on input to recognize pattersn\n",
    "# Uses many more channels so it can find small details\n",
    "# We interpret each c hannel as pixels of image spread out\n",
    "# Not really understanding how this works...\n",
    "\n",
    "# It is very powerful, but requires many more parameters\n",
    "def upscale_block(x, scale=2):\n",
    "    \"\"\" [Sub-Pixel Convolution](https://arxiv.org/abs/1609.05158) \"\"\"\n",
    "    # c is number of channels\n",
    "    n, w, h, c = x.get_shape().as_list()\n",
    "    # Make sure height and width of image are same after convolution here\n",
    "    # Number of filters is number of channels\n",
    "    # Because we want to double height and width we take 1 channel and turn it into 4\n",
    "    # If input image 32x32 we get out 64,64\n",
    "    \n",
    "    # Tile out pixels (if we have 4 filters arrange as below), spaced out\n",
    "    # [1 2 1 2 ...]\n",
    "    # [3 4 3 4 ...]\n",
    "    # [...]\n",
    "    x = tf.layers.conv2d(x, c * scale ** 2, (3, 3), activation=tf.nn.relu, padding='same')\n",
    "    # (3,3) is stride\n",
    "    \n",
    "    # This does the rearrangement\n",
    "    output = tf.depth_to_space(x, scale)\n",
    "    return output\n",
    "    \n",
    "tf.reset_default_graph()\n",
    "x = tf.placeholder(tf.float32, shape=[None, 32, 32, 3])\n",
    "x_up = upscale_block(x)\n",
    "print(x_up)\n",
    "\n",
    "# Note we get many more parameters because here we have 4 times as many channels as we had in\n",
    "num_params = np.sum([np.prod(v.get_shape().as_list()) for v in tf.trainable_variables()])\n",
    "print('Parameters: ' + str(num_params))"
   ]
  },
  {
   "cell_type": "markdown",
   "metadata": {},
   "source": [
    "#### ProgressiveGAN upscaling\n",
    "\n",
    "Finally, one technique that's recently found massive success in Nvidia's ProgressiveGAN used to generate high-resolution fake celebrity faces:\n",
    "\n",
    "<img src=\"https://i2.wp.com/robotnyheter.se/wp-content/uploads/2018/01/Nvidia_GAN_ansikten.jpg?w=1561\" width=\"70%\">\n",
    "\n",
    "None of these are real photos, they've all been upsampled from Gaussian noise with this technique"
   ]
  },
  {
   "cell_type": "code",
   "execution_count": 5,
   "metadata": {},
   "outputs": [
    {
     "name": "stdout",
     "output_type": "stream",
     "text": [
      "Tensor(\"conv2d/Relu:0\", shape=(?, 64, 64, 3), dtype=float32)\n",
      "Parameters: 84\n"
     ]
    }
   ],
   "source": [
    "def upscale_block(x, scale=2):\n",
    "    \"\"\" similar to the upsampling used in [ProgressiveGAN](https://arxiv.org/pdf/1710.10196.pdf) \"\"\"\n",
    "    n, w, h, c = x.get_shape().as_list()\n",
    "    # This is a bilinear upscale (older algorithm)\n",
    "    # Problem is you of course get a lot of fuzziness in images\n",
    "    up_x = tf.image.resize_nearest_neighbor(x, [scale*h, scale*w])\n",
    "    # Here the convolution is used to sharpen it\n",
    "    output = tf.layers.conv2d(up_x, 3, 3, padding='same', activation=tf.nn.relu)\n",
    "    return output\n",
    "\n",
    "tf.reset_default_graph()\n",
    "x = tf.placeholder(tf.float32, shape=[None, 32, 32, 3])\n",
    "x_up = upscale_block(x)\n",
    "print(x_up)\n",
    "\n",
    "# Note here we are back down to 84 parameters as we only kept 3 channels without creating new ones\n",
    "num_params = np.sum([np.prod(v.get_shape().as_list()) for v in tf.trainable_variables()])\n",
    "print('Parameters: ' + str(num_params))"
   ]
  },
  {
   "cell_type": "markdown",
   "metadata": {},
   "source": [
    "### Autoencoding\n",
    "\n",
    "Generally, autoencoding is learning \"a complicated identity function\". This makes it a form of unsupervised learning, which doesn't require data to be explicitly labeled, but instead looks for patterns and trends in data. Typically the complication is to bottleneck the size of the representation, but can also be more varied. We'll look at code for sparse autoencoders and de-noising autoencoders.\n",
    "\n",
    "First we'll define some preliminaries that we'll use in both architectures:"
   ]
  },
  {
   "cell_type": "code",
   "execution_count": 6,
   "metadata": {
    "collapsed": true
   },
   "outputs": [],
   "source": [
    "def upscale_block(x, scale=2):\n",
    "    \"\"\"transpose convolution upscale\"\"\"\n",
    "    # Here we upscale by factor of 2\n",
    "    return tf.layers.conv2d_transpose(x, 1, 3, strides=(scale, scale), padding='same', activation=tf.nn.relu)\n",
    "\n",
    "# use convolution for downscaling\n",
    "def downscale_block(x, scale=2):\n",
    "    n, h, w, c = x.get_shape().as_list()\n",
    "    # Here we downscale by factor of 2\n",
    "    return tf.layers.conv2d(x, np.floor(c * 1.25), 3, strides=scale, padding='same')\n",
    "\n",
    "def autoencoder_network(x, code_size=100):\n",
    "    \"\"\"This network assumes [?, 28, 28, ?] shaped input\"\"\"\n",
    "    # encoder\n",
    "    encoder_14 = downscale_block(x)\n",
    "    encoder_7 = downscale_block(encoder_14)\n",
    "    flatten_dim = np.prod(encoder_7.get_shape().as_list()[1:])\n",
    "    flat = tf.reshape(encoder_7, [-1, flatten_dim])\n",
    "    # code\n",
    "    code = tf.layers.dense(flat, code_size, activation=tf.nn.relu)\n",
    "    # decoder\n",
    "    # 49 neurons used as I need to end up with 28x28x1 output (not entirely sure...)\n",
    "    # 28 = (7+7)*2\n",
    "    hidden_decoder = tf.layers.dense(code, 49, activation=tf.nn.elu)\n",
    "    decoder_7 = tf.reshape(hidden_decoder, [-1, 7, 7, 1])\n",
    "    decoder_14 = upscale_block(decoder_7)\n",
    "    output = upscale_block(decoder_14)\n",
    "    return code, output"
   ]
  },
  {
   "cell_type": "markdown",
   "metadata": {},
   "source": [
    "#### Sparse autoenoding\n",
    "\n",
    "Although we bottleneck the representation in normal autoencoding by reducing the dimensionality, sparse autoencoders can actually increase it, but restrict it to be sparsely activated with L1 regularization using [tf.norm](https://www.tensorflow.org/api_docs/python/tf/norm) or KL-divergence. This has the effect of only having non-zero values in a few dimensions, effectively bottlenecking each representation, but giving a greater variety of dimensions to choose to be used."
   ]
  },
  {
   "cell_type": "code",
   "execution_count": 7,
   "metadata": {
    "scrolled": true
   },
   "outputs": [
    {
     "name": "stderr",
     "output_type": "stream",
     "text": [
      "W1012 12:20:13.983966 47958307618944 deprecation.py:323] From <ipython-input-6-6675f071ffbc>:20: dense (from tensorflow.python.layers.core) is deprecated and will be removed in a future version.\n",
      "Instructions for updating:\n",
      "Use keras.layers.dense instead.\n"
     ]
    },
    {
     "name": "stdout",
     "output_type": "stream",
     "text": [
      "Parameters: 9989\n",
      "Done!\n"
     ]
    }
   ],
   "source": [
    "# This uses L1 regularizer penalizes for every non-zero vector\n",
    "# This means we want to use as few indices in vector as possible\n",
    "\n",
    "# It does not bottleneck amount of data that can pass through though, which the standard auto-encoder does\n",
    "\n",
    "# set hyperparameters\n",
    "sparsity_weight = 5e-4 # 5e-3 made output all zero\n",
    "code_size = 100\n",
    "EPOCHS = 1\n",
    "BATCH_SIZE = 64\n",
    "\n",
    "# define graph\n",
    "tf.reset_default_graph()\n",
    "x = tf.placeholder(tf.float32, shape=[None, 28, 28, 1])\n",
    "# Defined in autoencoder_network above\n",
    "code, outputs = autoencoder_network(x, code_size)\n",
    "# Code would be the output of the autoencoder if we were doing transfer learning, as this is most compressed\n",
    "\n",
    "# just for fun count number of parameters in network\n",
    "num_params = np.sum([np.prod(v.get_shape().as_list()) for v in tf.trainable_variables()])\n",
    "print('Parameters: ' + str(num_params))\n",
    "\n",
    "# calculate loss\n",
    "sparsity_loss = tf.norm(code, ord=1, axis=1) # Calculates L1 norm\n",
    "reconstruction_loss = tf.reduce_mean(tf.square(outputs - x)) # Mean Square Error\n",
    "total_loss = reconstruction_loss + sparsity_weight * sparsity_loss # total loss including both\n",
    "\n",
    "# setup optimizer\n",
    "optimizer = tf.train.AdamOptimizer()\n",
    "train_op = optimizer.minimize(total_loss)\n",
    "\n",
    "# train for an epoch\n",
    "session = tf.Session()\n",
    "session.run(tf.global_variables_initializer())\n",
    "for epoch in range(EPOCHS):\n",
    "    for i in range(train_data.shape[0] // BATCH_SIZE):\n",
    "        batch_xs = train_data[i*BATCH_SIZE:(i+1)*BATCH_SIZE, :]\n",
    "        session.run(train_op, {x: batch_xs})\n",
    "print(\"Done!\")"
   ]
  },
  {
   "cell_type": "code",
   "execution_count": 8,
   "metadata": {},
   "outputs": [
    {
     "name": "stdout",
     "output_type": "stream",
     "text": [
      "Code and Input\n",
      "[[-0.          0.1010787  -0.         -0.          0.15245928 -0.\n",
      "   0.930921    0.4564608  -0.         -0.         -0.         -0.\n",
      "  -0.         -0.          0.16466914  0.1844     -0.         -0.\n",
      "  -0.         -0.         -0.          0.5640377  -0.         -0.\n",
      "  -0.         -0.         -0.         -0.         -0.          0.18913792\n",
      "  -0.          0.5015242  -0.         -0.         -0.          0.23799577\n",
      "   0.9350324  -0.         -0.         -0.         -0.         -0.\n",
      "  -0.         -0.         -0.          0.37871265  0.41970932 -0.\n",
      "   0.00424195  0.22550482 -0.         -0.         -0.         -0.\n",
      "  -0.         -0.         -0.         -0.          0.88969725  0.700522\n",
      "  -0.         -0.         -0.          0.28670785  0.63554966  0.7244459\n",
      "   0.5065285  -0.         -0.         -0.          0.1729887  -0.\n",
      "  -0.         -0.         -0.          0.35234573 -0.         -0.\n",
      "  -0.         -0.         -0.         -0.         -0.         -0.\n",
      "  -0.         -0.         -0.         -0.         -0.         -0.\n",
      "  -0.         -0.         -0.         -0.         -0.         -0.\n",
      "  -0.         -0.         -0.         -0.        ]]\n",
      "Number of nonzero code dimensions: 23/100\n"
     ]
    },
    {
     "data": {
      "image/png": "[encoded data removed]",
      "text/plain": [
       "<Figure size 432x288 with 1 Axes>"
      ]
     },
     "metadata": {
      "needs_background": "light"
     },
     "output_type": "display_data"
    }
   ],
   "source": [
    "# Now run a test\n",
    "idx = np.random.randint(test_data.shape[0])\n",
    "# Run chosen data through autoencoder\n",
    "x_out, code_out, output_out = session.run([x, code, outputs], {x: np.expand_dims(test_data[idx], axis=0)})\n",
    "\n",
    "# Visualize code and output\n",
    "print(\"Code and Input\")\n",
    "plt.imshow(np.squeeze(x_out))\n",
    "print(code_out)\n",
    "print(\"Number of nonzero code dimensions: {}/{}\".format(np.count_nonzero(code_out), code_size))\n"
   ]
  },
  {
   "cell_type": "code",
   "execution_count": 9,
   "metadata": {},
   "outputs": [
    {
     "name": "stdout",
     "output_type": "stream",
     "text": [
      "Reconstruction\n"
     ]
    },
    {
     "data": {
      "text/plain": [
       "<matplotlib.image.AxesImage at 0x2b9e9514bb38>"
      ]
     },
     "execution_count": 9,
     "metadata": {},
     "output_type": "execute_result"
    },
    {
     "data": {
      "image/png": "[encoded data removed]",
      "text/plain": [
       "<Figure size 432x288 with 1 Axes>"
      ]
     },
     "metadata": {
      "needs_background": "light"
     },
     "output_type": "display_data"
    }
   ],
   "source": [
    "# Show reconstruction\n",
    "\n",
    "# If reconstruction is terrible check code\n",
    "# If it is all zeros then you have too high of a constraint on the L1 error\n",
    "# Lowering this may help\n",
    "\n",
    "# This is in a different cell from the last plt.imshow call to show 2 images at once\n",
    "print(\"Reconstruction\")\n",
    "plt.imshow(np.squeeze(output_out))\n",
    "\n",
    "# Very blocky as transfpose is not very great at resolution\n",
    "# Using sharpening approches will likely provide better results in terms of resolution\n",
    "\n",
    "# "
   ]
  },
  {
   "cell_type": "markdown",
   "metadata": {},
   "source": [
    "#### Denoising Autoencoder\n",
    "\n",
    "Another way to force the an autoencoder to learn the features of data is to force it to map noisy, corrupted versions of the data back to the original. This is usually accomplished by manually adding noice (e.g., Gaussian), but may also be useful in real world settings.\n",
    "\n",
    "The noise level could be scaled up as training proceeds to implement a form of [curriculum learning](https://ronan.collobert.com/pub/matos/2009_curriculum_icml.pdf)."
   ]
  },
  {
   "cell_type": "code",
   "execution_count": 10,
   "metadata": {},
   "outputs": [
    {
     "name": "stdout",
     "output_type": "stream",
     "text": [
      "Done!\n"
     ]
    }
   ],
   "source": [
    "# Works fundamentally different than sparse autoencoder\n",
    "# Take clean image and add noise to it to distort it\n",
    "# Then run through autoencoder and pass in distorted version and ask for original image\n",
    "# It thus needs to learn to separate signal from noise\n",
    "\n",
    "# hyperparameters\n",
    "noise_level = 0.1\n",
    "code_size = 40\n",
    "\n",
    "# define graph\n",
    "tf.reset_default_graph()\n",
    "x = tf.placeholder(tf.float32, shape=[None, 28, 28, 1])\n",
    "# Add gaussian noise on top of input\n",
    "x_noisy = x + noise_level * tf.random_normal(tf.shape(x))\n",
    "# Pass noisy image into network\n",
    "code, outputs = autoencoder_network(x_noisy, code_size=code_size)\n",
    "\n",
    "# calculate loss\n",
    "reconstruction_loss = tf.reduce_mean(tf.square(outputs - x)) # MSE\n",
    "total_loss = reconstruction_loss # just for consistency even though there is only one term\n",
    "\n",
    "# setup optimizer\n",
    "optimizer = tf.train.AdamOptimizer()\n",
    "train_op = optimizer.minimize(total_loss)\n",
    "\n",
    "# train for an epoch and visualize\n",
    "batch_size = 16\n",
    "session = tf.Session()\n",
    "session.run(tf.global_variables_initializer())\n",
    "for epoch in range(2):\n",
    "    for i in range(train_data.shape[0] // batch_size):\n",
    "        batch_xs = train_data[i*batch_size:(i+1)*batch_size, :]\n",
    "        session.run(train_op, {x: batch_xs})\n",
    "print(\"Done!\")"
   ]
  },
  {
   "cell_type": "code",
   "execution_count": 11,
   "metadata": {},
   "outputs": [
    {
     "name": "stdout",
     "output_type": "stream",
     "text": [
      "Input\n"
     ]
    },
    {
     "data": {
      "text/plain": [
       "<matplotlib.image.AxesImage at 0x2b9ec09977f0>"
      ]
     },
     "execution_count": 11,
     "metadata": {},
     "output_type": "execute_result"
    },
    {
     "data": {
      "image/png": "[encoded data removed]",
      "text/plain": [
       "<Figure size 432x288 with 1 Axes>"
      ]
     },
     "metadata": {
      "needs_background": "light"
     },
     "output_type": "display_data"
    }
   ],
   "source": [
    "# run a test\n",
    "idx = np.random.randint(test_data.shape[0])\n",
    "x_out, noisy_x_out, code_out, output_out = session.run([x, x_noisy, code, outputs], {x: np.expand_dims(test_data[idx], axis=0)})\n",
    "print(\"Input\")\n",
    "plt.imshow(np.squeeze(x_out))"
   ]
  },
  {
   "cell_type": "code",
   "execution_count": 12,
   "metadata": {},
   "outputs": [
    {
     "name": "stdout",
     "output_type": "stream",
     "text": [
      "Code and Noised Input\n",
      "[[ 0.6735974   0.9724092   1.1182804   0.7309284   0.2113837   0.7636273\n",
      "   1.1857438   1.394796    1.0736072   1.0191958  -0.          0.4363351\n",
      "  -0.          0.56239116  0.6878202   0.5134084   0.7393745   1.3263414\n",
      "   1.3831631   1.1395414   0.92428166 -0.          0.81724614  1.335417\n",
      "   0.6488855   1.2148685   0.8766148   0.50705504  1.1391382   0.85937315\n",
      "  -0.          0.15663268  0.9172243   0.6905645  -0.          1.4398689\n",
      "   0.08250363  1.2056785   1.1510267   0.75959617]]\n",
      "Number of nonzero code dimensions: 35/40\n"
     ]
    },
    {
     "data": {
      "image/png": "[encoded data removed]",
      "text/plain": [
       "<Figure size 432x288 with 1 Axes>"
      ]
     },
     "metadata": {
      "needs_background": "light"
     },
     "output_type": "display_data"
    }
   ],
   "source": [
    "# show the noised input and code\n",
    "plt.imshow(np.squeeze(noisy_x_out))\n",
    "print(\"Code and Noised Input\")\n",
    "print(code_out)\n",
    "print(\"Number of nonzero code dimensions: {}/{}\".format(np.count_nonzero(code_out), code_size))\n",
    "\n",
    "# Many less zeros in code as there is no restriction to specifically push them to zero\n",
    "# If you add L1 regularization it may help, but it could be hard to balance hyperparameters with noise"
   ]
  },
  {
   "cell_type": "code",
   "execution_count": 13,
   "metadata": {},
   "outputs": [
    {
     "name": "stdout",
     "output_type": "stream",
     "text": [
      "Reconstruction\n"
     ]
    },
    {
     "data": {
      "text/plain": [
       "<matplotlib.image.AxesImage at 0x2b9ec0a50630>"
      ]
     },
     "execution_count": 13,
     "metadata": {},
     "output_type": "execute_result"
    },
    {
     "data": {
      "image/png": "[encoded data removed]",
      "text/plain": [
       "<Figure size 432x288 with 1 Axes>"
      ]
     },
     "metadata": {
      "needs_background": "light"
     },
     "output_type": "display_data"
    }
   ],
   "source": [
    "# Show reconstruction\n",
    "# This has to be in a different cell from the last plt.imshow call to show 2 images at once\n",
    "print(\"Reconstruction\")\n",
    "plt.imshow(np.squeeze(output_out))"
   ]
  },
  {
   "cell_type": "markdown",
   "metadata": {},
   "source": [
    "Write code specifying an autoencoder with a code of shape `[None, 4, 4, 1]` with the provided input placeholder (corresponding to a color image like CIFAR-10). Specify a reasonable autoencoding loss function so that the given optimizer code runs."
   ]
  },
  {
   "cell_type": "code",
   "execution_count": 15,
   "metadata": {},
   "outputs": [],
   "source": [
    "# Don't need to train this\n",
    "# Just create valid autoencoder so the lines below run correctly\n",
    "\n",
    "tf.reset_default_graph()\n",
    "x = tf.placeholder(tf.float32, shape=[None, 32, 32, 3])\n",
    "\n",
    "# your code here\n",
    "\n",
    "# Cut down to 16x16\n",
    "encoder_1 = tf.compat.v1.layers.Conv2D(64, (5,5), 2, padding='same', name='encode_1', kernel_regularizer=tf.contrib.layers.l2_regularizer(0.1))(x)\n",
    "# Cut down to 8x8\n",
    "encoder_2 = tf.compat.v1.layers.Conv2D(32, (3,3), 2, padding='same', name='encode_2', kernel_regularizer=tf.contrib.layers.l2_regularizer(0.1))(encoder_1)\n",
    "# Cut down to 4x4\n",
    "encoder_3 = tf.compat.v1.layers.Conv2D(1, (3,3), 2, padding='same', name='encode_3', kernel_regularizer=tf.contrib.layers.l2_regularizer(0.1))(encoder_2)\n",
    "# Flatten for use in dense layer code\n",
    "flat = tf.reshape(encoder_3, [-1, 4,4,1], name='flat')\n",
    "# Add code layer (16 neurons total from 4x4x1)\n",
    "code = tf.compat.v1.layers.Dense( 16, activation=tf.nn.relu, name='code')(flat)\n",
    "# Reshape back for convolutional layers\n",
    "reshape_layer = tf.reshape(code, [-1, 4, 4, 1], name='decode_1')\n",
    "# Upscale to 8x8\n",
    "decoder_1 = tf.compat.v1.layers.Conv2DTranspose(1, (3,3), 2, padding='same', name='decode_1')(reshape_layer) \n",
    "# Upscale to 16x16\n",
    "decoder_2 = tf.compat.v1.layers.Conv2DTranspose(32, (3,3), 2, padding='same', name='decode_2')(decoder_1)\n",
    "# Upscale to 32x32\n",
    "decoder_3 = tf.compat.v1.layers.Conv2DTranspose(64, (5,5), 2, padding='same', name='decode_3')(decoder_2)\n",
    "# Calculate output\n",
    "output = tf.compat.v1.layers.Conv2DTranspose(3, (3,3), 1, padding='same', name='output')(decoder_3)\n",
    "\n",
    "\n",
    "# calculate loss\n",
    "sparsity_weight = 5e-3\n",
    "sparsity_loss = tf.norm(code, ord=1, axis=1)\n",
    "reconstruction_loss = tf.reduce_mean(tf.square(output - x)) # Mean Square Error\n",
    "loss = reconstruction_loss + sparsity_weight * sparsity_loss\n",
    "\n",
    "\n",
    "# if your code works, this should have no problem\n",
    "optimizer = tf.train.AdamOptimizer()\n",
    "train_op = optimizer.minimize(loss)\n"
   ]
  },
  {
   "cell_type": "markdown",
   "metadata": {},
   "source": [
    "### Coda\n",
    "\n",
    "#### [Progressive GAN latent space interpolation on Youtube](https://youtu.be/XOxxPcy5Gr4?t=1m48s)\n",
    "\n",
    "#### [How to Use t-SNE Effectively (distill.pub)](https://distill.pub/2016/misread-tsne/)"
   ]
  }
 ],
 "metadata": {
  "kernelspec": {
   "display_name": "Python 3",
   "language": "python",
   "name": "python3"
  },
  "language_info": {
   "codemirror_mode": {
    "name": "ipython",
    "version": 3
   },
   "file_extension": ".py",
   "mimetype": "text/x-python",
   "name": "python",
   "nbconvert_exporter": "python",
   "pygments_lexer": "ipython3",
   "version": "3.7.5"
  }
 },
 "nbformat": 4,
 "nbformat_minor": 2
}
